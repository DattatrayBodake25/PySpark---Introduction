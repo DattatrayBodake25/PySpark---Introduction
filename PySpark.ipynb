{
 "cells": [
  {
   "cell_type": "code",
   "execution_count": 1,
   "id": "c9c7cf1c-0212-478d-9499-6a4bd4d94bb8",
   "metadata": {},
   "outputs": [],
   "source": [
    "# Install PySpark using pip\n",
    "# !pip install pyspark"
   ]
  },
  {
   "cell_type": "markdown",
   "id": "fc693a66-80ec-4256-9f99-1d34bb23b118",
   "metadata": {},
   "source": [
    "## Setting Up the Environment"
   ]
  },
  {
   "cell_type": "code",
   "execution_count": 3,
   "id": "d6eb46e1-9a36-4377-bbed-2c453a0e7da6",
   "metadata": {},
   "outputs": [],
   "source": [
    "from pyspark.sql import SparkSession"
   ]
  },
  {
   "cell_type": "code",
   "execution_count": 4,
   "id": "adfa98ce-17de-4341-ba9a-2e934fe5001e",
   "metadata": {},
   "outputs": [],
   "source": [
    "import os\n",
    "\n",
    "# Set environment variables for PySpark\n",
    "os.environ['PYSPARK_PYTHON'] = 'python'\n",
    "os.environ['PYSPARK_DRIVER_PYTHON'] = 'python'"
   ]
  },
  {
   "cell_type": "code",
   "execution_count": 5,
   "id": "18781dc5-1b94-4f8a-8d3f-adcefac012e3",
   "metadata": {},
   "outputs": [
    {
     "name": "stdout",
     "output_type": "stream",
     "text": [
      "Spark Version: 3.5.1\n"
     ]
    }
   ],
   "source": [
    "# Initialize Spark Session in local mode\n",
    "spark = SparkSession.builder \\\n",
    "    .appName(\"PySpark Learning\") \\\n",
    "    .master(\"local[*]\") \\\n",
    "    .config(\"spark.network.timeout\", \"600s\") \\\n",
    "    .config(\"spark.executor.heartbeatInterval\", \"60s\") \\\n",
    "    .getOrCreate()\n",
    "\n",
    "# Verify the Spark Session\n",
    "print(\"Spark Version:\", spark.version)"
   ]
  },
  {
   "cell_type": "markdown",
   "id": "c620b160-6716-46ad-b0fd-c8601b8af7ad",
   "metadata": {},
   "source": [
    "## Working with RDDs"
   ]
  },
  {
   "cell_type": "markdown",
   "id": "e244af6f-7b8d-457c-9cd4-9ce4aa25d6ee",
   "metadata": {},
   "source": [
    "RDDs are the low-level data structures in Spark. Let's create and perform operations on RDDs."
   ]
  },
  {
   "cell_type": "code",
   "execution_count": 8,
   "id": "bedd84db-54c3-4d28-b0eb-b5a44fe0a2ee",
   "metadata": {},
   "outputs": [
    {
     "name": "stdout",
     "output_type": "stream",
     "text": [
      "[1, 4, 9, 16, 25]\n"
     ]
    }
   ],
   "source": [
    "# Create an RDD\n",
    "data = [1, 2, 3, 4, 5]\n",
    "rdd = spark.sparkContext.parallelize(data)\n",
    "\n",
    "# Perform transformations and actions\n",
    "rdd_squared = rdd.map(lambda x: x * x)\n",
    "print(rdd_squared.collect())"
   ]
  },
  {
   "cell_type": "markdown",
   "id": "1c84d275-3171-4749-a851-e061ec153fc0",
   "metadata": {},
   "source": [
    "## Creating and Manipulating DataFrames"
   ]
  },
  {
   "cell_type": "code",
   "execution_count": 16,
   "id": "7217e4d2-ad69-4391-b3ec-43661b0ad275",
   "metadata": {},
   "outputs": [],
   "source": [
    "from pyspark import Row"
   ]
  },
  {
   "cell_type": "code",
   "execution_count": 22,
   "id": "2874c058-ee38-4a68-8641-5c3aa3c16964",
   "metadata": {},
   "outputs": [
    {
     "name": "stdout",
     "output_type": "stream",
     "text": [
      "+------+---+\n",
      "|  Name|Age|\n",
      "+------+---+\n",
      "| Datta| 25|\n",
      "|Poonam| 29|\n",
      "| Jyoti| 31|\n",
      "| Swati| 32|\n",
      "| Nilam| 33|\n",
      "+------+---+\n",
      "\n"
     ]
    }
   ],
   "source": [
    "# create dataframe\n",
    "data = [(\"Datta\", 25), (\"Poonam\", 29), (\"Jyoti\", 31), (\"Swati\", 32), (\"Nilam\", 33)]\n",
    "columns = [\"Name\", \"Age\"]\n",
    "\n",
    "df = spark.createDataFrame(data, columns)\n",
    "df.show()"
   ]
  },
  {
   "cell_type": "code",
   "execution_count": 24,
   "id": "95450bdc-b3de-420f-979f-4075d6e20ae5",
   "metadata": {},
   "outputs": [
    {
     "name": "stdout",
     "output_type": "stream",
     "text": [
      "+-----+---+\n",
      "| Name|Age|\n",
      "+-----+---+\n",
      "|Jyoti| 31|\n",
      "|Swati| 32|\n",
      "|Nilam| 33|\n",
      "+-----+---+\n",
      "\n"
     ]
    }
   ],
   "source": [
    "# Perform transformations\n",
    "df_filtered = df.filter(df[\"Age\"] > 30)\n",
    "df_filtered.show()"
   ]
  },
  {
   "cell_type": "code",
   "execution_count": 26,
   "id": "7913b389-9cf6-4e67-9f0d-7f98dce46746",
   "metadata": {},
   "outputs": [
    {
     "name": "stdout",
     "output_type": "stream",
     "text": [
      "+---+-----+\n",
      "|Age|count|\n",
      "+---+-----+\n",
      "| 25|    1|\n",
      "| 29|    1|\n",
      "| 31|    1|\n",
      "| 32|    1|\n",
      "| 33|    1|\n",
      "+---+-----+\n",
      "\n"
     ]
    }
   ],
   "source": [
    "# Group and aggregate\n",
    "df_grouped = df.groupBy(\"Age\").count()\n",
    "df_grouped.show()"
   ]
  },
  {
   "cell_type": "markdown",
   "id": "00451640-7511-4dd2-83cf-87edd331caf6",
   "metadata": {},
   "source": [
    "## Reading Data from a CSV File"
   ]
  },
  {
   "cell_type": "code",
   "execution_count": 29,
   "id": "57ec41a2-ff07-4802-88bd-21cb9daee4f2",
   "metadata": {},
   "outputs": [],
   "source": [
    "df_csv = spark.read.csv(r\"C:\\Users\\datta\\OneDrive\\Desktop\\Predixion.ai Data Engineer Assignment\\5k_borrowers_data.csv\", \n",
    "                        header=True, \n",
    "                        inferSchema=True)"
   ]
  },
  {
   "cell_type": "code",
   "execution_count": 42,
   "id": "613b9ffe-9893-4650-abf6-a85a3255dce1",
   "metadata": {},
   "outputs": [
    {
     "name": "stdout",
     "output_type": "stream",
     "text": [
      "+-------------------+--------------------+----------+--------------+-------------+--------------------+--------------------+-------------------+---------------------+----------------+---------------+--------------------+--------------------+--------------------+-----------------+--------+---------------+--------------------+--------------------+----------------------------+---------------+\n",
      "|               Name|       Date of Birth|    Gender|Marital Status| Phone Number|       Email Address|     Mailing Address|Language Preference|Geographical Location|    Credit Score|      Loan Type|         Loan Amount|           Loan Term|       Interest Rate|     Loan Purpose|     EMI|     IP Address|         Geolocation|   Repayment History|Days Left to Pay Current EMI|Delayed Payment|\n",
      "+-------------------+--------------------+----------+--------------+-------------+--------------------+--------------------+-------------------+---------------------+----------------+---------------+--------------------+--------------------+--------------------+-----------------+--------+---------------+--------------------+--------------------+----------------------------+---------------+\n",
      "|       Khushi Balan|          19-02-1986|      Male|        Single|   2169182416| xbhakta@example.com|29/74, Mander, Ku...|            Marathi|              Danapur|             491|      Auto Loan|               34398|                  15|                0.16|Medical Emergency| 2545.36|   10.65.217.95|-49.3275015, 58.0...|[{'Payment Date':...|                           2|             No|\n",
      "|   Umang Chatterjee|          13-08-1980|      Male|       Married|   4521712306| ivaidya@example.org|              73/885|               NULL|                 NULL|            NULL|           NULL|                NULL|                NULL|                NULL|             NULL|    NULL|           NULL|                NULL|                NULL|                        NULL|           NULL|\n",
      "|        Sharma Marg|                NULL|      NULL|          NULL|         NULL|                NULL|                NULL|               NULL|                 NULL|            NULL|           NULL|                NULL|                NULL|                NULL|             NULL|    NULL|           NULL|                NULL|                NULL|                        NULL|           NULL|\n",
      "|    Solapur 386449\"|           Malayalam| Bangalore|           325|Personal Loan|               96856|                   9|                0.2|      Home Renovation|        11678.35|192.168.179.132|14.951437, -136.4...|[{'Payment Date':...|                   4|              Yes|    NULL|           NULL|                NULL|                NULL|                        NULL|           NULL|\n",
      "|         Adira Dara|          05-08-1995|    Female|       Widowed|   4615155004|loyalvihaan@examp...|           H.No. 468|               NULL|                 NULL|            NULL|           NULL|                NULL|                NULL|                NULL|             NULL|    NULL|           NULL|                NULL|                NULL|                        NULL|           NULL|\n",
      "|         Raval Zila|                NULL|      NULL|          NULL|         NULL|                NULL|                NULL|               NULL|                 NULL|            NULL|           NULL|                NULL|                NULL|                NULL|             NULL|    NULL|           NULL|                NULL|                NULL|                        NULL|           NULL|\n",
      "|     Nanded 490253\"|           Malayalam|   Bijapur|           624|    Auto Loan|               91301|                  10|               0.16|      Home Renovation|         9812.94|  10.166.34.134|64.013123, 175.27...|[{'Payment Date':...|                   7|               No|    NULL|           NULL|                NULL|                NULL|                        NULL|           NULL|\n",
      "|         Anvi Saini|          16-11-2001|      Male|       Married|+914836846677|   tgaba@example.org|04/25, Mandal Pat...|           Gujarati|                Korba|             346|      Home Loan|               78981|                  14|                0.28|   Education Fees| 6678.01| 10.107.161.197|-11.6130395, 37.5...|[{'Payment Date':...|                           7|            Yes|\n",
      "|        Kartik Kade|          09-07-1979|      Male|       Widowed|+910186397558|sanakaur@example.net|55/13, Srivastava...|               NULL|                 NULL|            NULL|           NULL|                NULL|                NULL|                NULL|             NULL|    NULL|           NULL|                NULL|                NULL|                        NULL|           NULL|\n",
      "|     Raipur-801775\"|           Malayalam|    Jorhat|           321|    Home Loan|               89953|                   1|               0.29|     Wedding Expenses|        92126.86| 192.168.255.28|-71.7186905, 49.3...|                  []|                  11|               No|    NULL|           NULL|                NULL|                NULL|                        NULL|           NULL|\n",
      "|       Rohan Sekhon|          31-07-1980|      Male|       Widowed|  05864147671|   orama@example.org|   53/19, Lal Street|               NULL|                 NULL|            NULL|           NULL|                NULL|                NULL|                NULL|             NULL|    NULL|           NULL|                NULL|                NULL|                        NULL|           NULL|\n",
      "|Pondicherry-688297\"|               Hindi|Davanagere|           760|    Auto Loan|               14147|                   2|               0.29|      Home Renovation|         7330.93|   10.56.169.62|46.0948625, 4.226201|[{'Payment Date':...|                   9|               No|    NULL|           NULL|                NULL|                NULL|                        NULL|           NULL|\n",
      "|     Purab Randhawa|          19-10-1966|    Female|        Single|  05187626325|mandaarnav@exampl...|               89/03|               NULL|                 NULL|            NULL|           NULL|                NULL|                NULL|                NULL|             NULL|    NULL|           NULL|                NULL|                NULL|                        NULL|           NULL|\n",
      "|        Krish Nagar|                NULL|      NULL|          NULL|         NULL|                NULL|                NULL|               NULL|                 NULL|            NULL|           NULL|                NULL|                NULL|                NULL|             NULL|    NULL|           NULL|                NULL|                NULL|                        NULL|           NULL|\n",
      "|  Ambarnath-455869\"|             English|   Lucknow|           658|Personal Loan|               69922|                  10|               0.29|      Home Renovation|         7954.84|  10.177.235.49|-2.3971695, -31.6...|[{'Payment Date':...|                   6|              Yes|    NULL|           NULL|                NULL|                NULL|                        NULL|           NULL|\n",
      "|      Vardaniya Roy|          03-08-1998|    Female|       Widowed|  03958629885|sanghavidur@examp...|H.No. 35, Rege Pa...|            Marathi|             Thrissur|             441|  Personal Loan|               75349|                   6|                0.15|Medical Emergency|13113.27| 172.17.100.164|78.914761, -43.07...|[{'Payment Date':...|                           7|            Yes|\n",
      "|          Piya Ravi|          06-10-2001|      Male|      Divorced|+913408234563| ivana98@example.org|H.No. 239, Ben Ga...|              Tamil|           Berhampore|             355|      Auto Loan|               68574|                  13|                0.28|Medical Emergency| 6176.18|192.168.218.223|19.605321, 75.110705|[{'Payment Date':...|                          14|            Yes|\n",
      "|   Rati Swaminathan|          01-01-1992|    Female|       Widowed|  07508064439|ivansoman@example...|               63/29|               NULL|                 NULL|            NULL|           NULL|                NULL|                NULL|                NULL|             NULL|    NULL|           NULL|                NULL|                NULL|                        NULL|           NULL|\n",
      "|    Srivastava Zila| Bidhannagar-812274\"|   English|      Amritsar|          502|           Home Loan|               39789|                 10|                 0.26|Wedding Expenses|        4468.29|     192.168.244.120|-35.8522285, -162...|[{'Payment Date':...|                1|      No|           NULL|                NULL|                NULL|                        NULL|           NULL|\n",
      "|         Aaina Mani|          02-01-1960|    Female|       Married|  02344611182|  vdugar@example.net|        34/31, Dugar|               NULL|                 NULL|            NULL|           NULL|                NULL|                NULL|                NULL|             NULL|    NULL|           NULL|                NULL|                NULL|                        NULL|           NULL|\n",
      "+-------------------+--------------------+----------+--------------+-------------+--------------------+--------------------+-------------------+---------------------+----------------+---------------+--------------------+--------------------+--------------------+-----------------+--------+---------------+--------------------+--------------------+----------------------------+---------------+\n",
      "only showing top 20 rows\n",
      "\n"
     ]
    }
   ],
   "source": [
    "df_csv.show()"
   ]
  },
  {
   "cell_type": "code",
   "execution_count": 39,
   "id": "6f8f432f-312c-4282-bacc-1059fc99b67e",
   "metadata": {},
   "outputs": [],
   "source": [
    "# pd_df= df_csv.toPandas()\n",
    "# pd_df"
   ]
  },
  {
   "cell_type": "markdown",
   "id": "aba4c840-3f9b-4b72-b555-4df4e5c0265a",
   "metadata": {},
   "source": [
    "## Using Spark SQL"
   ]
  },
  {
   "cell_type": "code",
   "execution_count": 45,
   "id": "91426e69-e0a2-4dca-bc49-f5119df00fd3",
   "metadata": {},
   "outputs": [
    {
     "name": "stdout",
     "output_type": "stream",
     "text": [
      "+-----+---+\n",
      "| Name|Age|\n",
      "+-----+---+\n",
      "|Jyoti| 31|\n",
      "|Swati| 32|\n",
      "|Nilam| 33|\n",
      "+-----+---+\n",
      "\n"
     ]
    }
   ],
   "source": [
    "# Register the DataFrame as a SQL temporary view\n",
    "df.createOrReplaceTempView(\"people\")\n",
    "\n",
    "# Run SQL queries\n",
    "sql_df = spark.sql(\"SELECT Name, Age FROM people WHERE Age > 30\")\n",
    "sql_df.show()"
   ]
  },
  {
   "cell_type": "markdown",
   "id": "b54cd03b-abd7-43e8-8b27-93f3e7dbdb01",
   "metadata": {},
   "source": [
    "## Machine Learning with PySpark"
   ]
  },
  {
   "cell_type": "code",
   "execution_count": 52,
   "id": "64843d74-cb1d-4e7e-b0ee-7afad21e36d0",
   "metadata": {},
   "outputs": [
    {
     "name": "stdout",
     "output_type": "stream",
     "text": [
      "Training Data Count:  73\n",
      "Test Data Count:  27\n",
      "+--------+-----+----------+\n",
      "|features|    y|prediction|\n",
      "+--------+-----+----------+\n",
      "|   [2.0]|  4.0|       4.0|\n",
      "|   [5.0]| 10.0|      10.0|\n",
      "|  [17.0]| 34.0|      34.0|\n",
      "|  [19.0]| 38.0|      38.0|\n",
      "|  [22.0]| 44.0|      44.0|\n",
      "|  [23.0]| 46.0|      46.0|\n",
      "|  [24.0]| 48.0|      48.0|\n",
      "|  [27.0]| 54.0|      54.0|\n",
      "|  [32.0]| 64.0|      64.0|\n",
      "|  [39.0]| 78.0|      78.0|\n",
      "|  [50.0]|100.0|     100.0|\n",
      "|  [51.0]|102.0|     102.0|\n",
      "|  [52.0]|104.0|     104.0|\n",
      "|  [54.0]|108.0|     108.0|\n",
      "|  [58.0]|116.0|     116.0|\n",
      "|  [65.0]|130.0|     130.0|\n",
      "|  [67.0]|134.0|     134.0|\n",
      "|  [69.0]|138.0|     138.0|\n",
      "|  [71.0]|142.0|     142.0|\n",
      "|  [72.0]|144.0|     144.0|\n",
      "+--------+-----+----------+\n",
      "only showing top 20 rows\n",
      "\n"
     ]
    }
   ],
   "source": [
    "from pyspark.ml.feature import VectorAssembler\n",
    "from pyspark.ml.regression import LinearRegression\n",
    "\n",
    "# Prepare a larger dataset\n",
    "data = [(i, 2.0 * i) for i in range(1, 101)]\n",
    "columns = [\"x\", \"y\"]\n",
    "df_ml = spark.createDataFrame(data, columns)\n",
    "\n",
    "# Create feature vector\n",
    "assembler = VectorAssembler(inputCols=[\"x\"], outputCol=\"features\")\n",
    "df_ml = assembler.transform(df_ml)\n",
    "\n",
    "# Split the data\n",
    "train_data, test_data = df_ml.randomSplit([0.7, 0.3])\n",
    "\n",
    "# Check the counts of train and test datasets\n",
    "print(\"Training Data Count: \", train_data.count())\n",
    "print(\"Test Data Count: \", test_data.count())\n",
    "\n",
    "# Create and train the model\n",
    "lr = LinearRegression(featuresCol=\"features\", labelCol=\"y\")\n",
    "lr_model = lr.fit(train_data)\n",
    "\n",
    "# Evaluate the model\n",
    "predictions = lr_model.transform(test_data)\n",
    "predictions.select(\"features\", \"y\", \"prediction\").show()\n"
   ]
  },
  {
   "cell_type": "code",
   "execution_count": null,
   "id": "26901571-1ed3-49fd-a6bc-bdffc69a55a7",
   "metadata": {},
   "outputs": [],
   "source": []
  }
 ],
 "metadata": {
  "kernelspec": {
   "display_name": "Python 3 (ipykernel)",
   "language": "python",
   "name": "python3"
  },
  "language_info": {
   "codemirror_mode": {
    "name": "ipython",
    "version": 3
   },
   "file_extension": ".py",
   "mimetype": "text/x-python",
   "name": "python",
   "nbconvert_exporter": "python",
   "pygments_lexer": "ipython3",
   "version": "3.11.7"
  }
 },
 "nbformat": 4,
 "nbformat_minor": 5
}
